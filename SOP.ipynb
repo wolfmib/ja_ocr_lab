{
 "cells": [
  {
   "cell_type": "markdown",
   "metadata": {},
   "source": [
    "## SOP  Referenced for this project 🦉\n",
    "---\n",
    "- skip scan_automation\n",
    "- skip train_model \n",
    "- convert png to jpg , if you are using obtenir_slot.py (click by yourself)  ✅\n",
    "- get pickle files from work_tem/run_*.png  ✅\n"
   ]
  },
  {
   "cell_type": "code",
   "execution_count": 11,
   "metadata": {},
   "outputs": [
    {
     "name": "stdout",
     "output_type": "stream",
     "text": [
      "/Users/johnny/Desktop/game_simulation_tool/97_Automation/SLOT_Classification_Version_01_On_Branch_Working_On_Version_2\r\n"
     ]
    }
   ],
   "source": [
    "!pwd"
   ]
  },
  {
   "cell_type": "markdown",
   "metadata": {},
   "source": [
    "---\n",
    "## Convert png to jpg under work_tem dir , ✅\n",
    "\n",
    "---"
   ]
  },
  {
   "cell_type": "code",
   "execution_count": 12,
   "metadata": {},
   "outputs": [
    {
     "name": "stdout",
     "output_type": "stream",
     "text": [
      "97_Automation_SLOT_Training_Model.ipynb\n",
      "97_automation_cutter_v01.py\n",
      "SOP.ipynb\n",
      "__pycache__\n",
      "_temp.py\n",
      "analyzer_system.py\n",
      "image_generator_manually.py\n",
      "image_generator_train_by_one_jpg.py\n",
      "image_generator_train_by_sample_folder.py\n",
      "image_generator_validation_by_one_jpg.py\n",
      "image_generator_validation_by_sample_folder.py\n",
      "ja_convert_png_to_jpg.py\n",
      "ja_hook.py\n",
      "mkdir_train_models_by_sample_folder.py\n",
      "obtenir_class_index_name_map_by_train_models_folder.py\n",
      "obtenir_slot_run_photo.py\n",
      "obtenir_slot_run_photo_by_click.py\n",
      "pandas_example.py\n",
      "prediction_demo_test.py\n",
      "prediction_demo_test_avec_full_slot.py\n",
      "prediction_full_run_with_os_windows.py\n",
      "train_all_models.py\n",
      "train_all_models_by_pick_best.py\n",
      "train_one_model.py\n",
      "train_one_model_by_pick_best.py\n",
      "windows_run.py\n",
      "Converting the png to jpg for further process..\n",
      "run_1.png\n",
      "run_10.png\n",
      "run_100.png\n",
      "run_11.png\n",
      "run_12.png\n",
      "run_13.png\n",
      "run_14.png\n",
      "run_15.png\n",
      "run_16.png\n",
      "run_17.png\n",
      "run_18.png\n",
      "run_19.png\n",
      "run_2.png\n",
      "run_20.png\n",
      "run_21.png\n",
      "run_22.png\n",
      "run_23.png\n",
      "run_24.png\n",
      "run_25.png\n",
      "run_26.png\n",
      "run_27.png\n",
      "run_28.png\n",
      "run_29.png\n",
      "run_3.png\n",
      "run_30.png\n",
      "run_31.png\n",
      "run_32.png\n",
      "run_33.png\n",
      "run_34.png\n",
      "run_35.png\n",
      "run_36.png\n",
      "run_37.png\n",
      "run_38.png\n",
      "run_39.png\n",
      "run_4.png\n",
      "run_40.png\n",
      "run_41.png\n",
      "run_42.png\n",
      "run_43.png\n",
      "run_44.png\n",
      "run_45.png\n",
      "run_46.png\n",
      "run_47.png\n",
      "run_48.png\n",
      "run_49.png\n",
      "run_5.png\n",
      "run_50.png\n",
      "run_51.png\n",
      "run_52.png\n",
      "run_53.png\n",
      "run_54.png\n",
      "run_55.png\n",
      "run_56.png\n",
      "run_57.png\n",
      "run_58.png\n",
      "run_59.png\n",
      "run_6.png\n",
      "run_60.png\n",
      "run_61.png\n",
      "run_62.png\n",
      "run_63.png\n",
      "run_64.png\n",
      "run_65.png\n",
      "run_66.png\n",
      "run_67.png\n",
      "run_68.png\n",
      "run_69.png\n",
      "run_7.png\n",
      "run_70.png\n",
      "run_71.png\n",
      "run_72.png\n",
      "run_73.png\n",
      "run_74.png\n",
      "run_75.png\n",
      "run_76.png\n",
      "run_77.png\n",
      "run_78.png\n",
      "run_79.png\n",
      "run_8.png\n",
      "run_80.png\n",
      "run_81.png\n",
      "run_82.png\n",
      "run_83.png\n",
      "run_84.png\n",
      "run_85.png\n",
      "run_86.png\n",
      "run_87.png\n",
      "run_88.png\n",
      "run_89.png\n",
      "run_9.png\n",
      "run_90.png\n",
      "run_91.png\n",
      "run_92.png\n",
      "run_93.png\n",
      "run_94.png\n",
      "run_95.png\n",
      "run_96.png\n",
      "run_97.png\n",
      "run_98.png\n",
      "run_99.png\n",
      "run_1.jpg   run_24.jpg  run_4.jpg   run_55.jpg  run_70.jpg  run_86.jpg\n",
      "run_1.png   run_24.png  run_4.png   run_55.png  run_70.png  run_86.png\n",
      "run_10.jpg  run_25.jpg  run_40.jpg  run_56.jpg  run_71.jpg  run_87.jpg\n",
      "run_10.png  run_25.png  run_40.png  run_56.png  run_71.png  run_87.png\n",
      "run_100.jpg run_26.jpg  run_41.jpg  run_57.jpg  run_72.jpg  run_88.jpg\n",
      "run_100.png run_26.png  run_41.png  run_57.png  run_72.png  run_88.png\n",
      "run_11.jpg  run_27.jpg  run_42.jpg  run_58.jpg  run_73.jpg  run_89.jpg\n",
      "run_11.png  run_27.png  run_42.png  run_58.png  run_73.png  run_89.png\n",
      "run_12.jpg  run_28.jpg  run_43.jpg  run_59.jpg  run_74.jpg  run_9.jpg\n",
      "run_12.png  run_28.png  run_43.png  run_59.png  run_74.png  run_9.png\n",
      "run_13.jpg  run_29.jpg  run_44.jpg  run_6.jpg   run_75.jpg  run_90.jpg\n",
      "run_13.png  run_29.png  run_44.png  run_6.png   run_75.png  run_90.png\n",
      "run_14.jpg  run_3.jpg   run_45.jpg  run_60.jpg  run_76.jpg  run_91.jpg\n",
      "run_14.png  run_3.png   run_45.png  run_60.png  run_76.png  run_91.png\n",
      "run_15.jpg  run_30.jpg  run_46.jpg  run_61.jpg  run_77.jpg  run_92.jpg\n",
      "run_15.png  run_30.png  run_46.png  run_61.png  run_77.png  run_92.png\n",
      "run_16.jpg  run_31.jpg  run_47.jpg  run_62.jpg  run_78.jpg  run_93.jpg\n",
      "run_16.png  run_31.png  run_47.png  run_62.png  run_78.png  run_93.png\n",
      "run_17.jpg  run_32.jpg  run_48.jpg  run_63.jpg  run_79.jpg  run_94.jpg\n",
      "run_17.png  run_32.png  run_48.png  run_63.png  run_79.png  run_94.png\n",
      "run_18.jpg  run_33.jpg  run_49.jpg  run_64.jpg  run_8.jpg   run_95.jpg\n",
      "run_18.png  run_33.png  run_49.png  run_64.png  run_8.png   run_95.png\n",
      "run_19.jpg  run_34.jpg  run_5.jpg   run_65.jpg  run_80.jpg  run_96.jpg\n",
      "run_19.png  run_34.png  run_5.png   run_65.png  run_80.png  run_96.png\n",
      "run_2.jpg   run_35.jpg  run_50.jpg  run_66.jpg  run_81.jpg  run_97.jpg\n",
      "run_2.png   run_35.png  run_50.png  run_66.png  run_81.png  run_97.png\n",
      "run_20.jpg  run_36.jpg  run_51.jpg  run_67.jpg  run_82.jpg  run_98.jpg\n",
      "run_20.png  run_36.png  run_51.png  run_67.png  run_82.png  run_98.png\n",
      "run_21.jpg  run_37.jpg  run_52.jpg  run_68.jpg  run_83.jpg  run_99.jpg\n",
      "run_21.png  run_37.png  run_52.png  run_68.png  run_83.png  run_99.png\n",
      "run_22.jpg  run_38.jpg  run_53.jpg  run_69.jpg  run_84.jpg\n",
      "run_22.png  run_38.png  run_53.png  run_69.png  run_84.png\n",
      "run_23.jpg  run_39.jpg  run_54.jpg  run_7.jpg   run_85.jpg\n",
      "run_23.png  run_39.png  run_54.png  run_7.png   run_85.png\n"
     ]
    }
   ],
   "source": [
    "!source ../../env/bin/activate\n",
    "!ls | grep \".py\"\n",
    "!python3 ja_convert_png_to_jpg.py\n",
    "!ls work_tem"
   ]
  },
  {
   "cell_type": "markdown",
   "metadata": {},
   "source": [
    "--- \n",
    "### Let's Get Pickle File From this png files    ✅\n",
    "---"
   ]
  },
  {
   "cell_type": "code",
   "execution_count": 1,
   "metadata": {},
   "outputs": [
    {
     "name": "stdout",
     "output_type": "stream",
     "text": [
      "Run python3 windows_run_v2.py in terminal by yourself and analysis pickel later!\n"
     ]
    }
   ],
   "source": [
    "print(\"Run python3 windows_run_v2.py in terminal by yourself and analysis pickel later!\")\n",
    "#!python3 windows_run_v2.py"
   ]
  },
  {
   "cell_type": "markdown",
   "metadata": {},
   "source": [
    "---\n",
    "## Let's Analysis the data  ✅\n",
    "---\n",
    "- temp_windows/ja_analysis_jp_line_test.ipynb (Used to load manualy symbol and calculate RTP)\n",
    "- temp_windows/ja_analysis_jp_line_v1.ipynb (Used to load pickle file and calculate RTP)\n",
    "- temp_windows/ja_analysis_jp_line_v2_merge_symbol.ipynb (Used to laod picile file and merge simular symobl together then, calculate RTP)\n",
    "---"
   ]
  },
  {
   "cell_type": "code",
   "execution_count": 18,
   "metadata": {},
   "outputs": [
    {
     "name": "stdout",
     "output_type": "stream",
     "text": [
      "Go to temp_windos and open JA_Analysis_Pickle_JupterNotebook\n"
     ]
    }
   ],
   "source": [
    "print(\"Go to temp_windos and open JA_Analysis_Pickle_JupterNotebook\")"
   ]
  },
  {
   "cell_type": "code",
   "execution_count": null,
   "metadata": {},
   "outputs": [],
   "source": []
  },
  {
   "cell_type": "code",
   "execution_count": 19,
   "metadata": {},
   "outputs": [],
   "source": []
  },
  {
   "cell_type": "code",
   "execution_count": null,
   "metadata": {},
   "outputs": [],
   "source": []
  },
  {
   "cell_type": "code",
   "execution_count": null,
   "metadata": {},
   "outputs": [],
   "source": []
  }
 ],
 "metadata": {
  "kernelspec": {
   "display_name": "Python 3",
   "language": "python",
   "name": "python3"
  },
  "language_info": {
   "codemirror_mode": {
    "name": "ipython",
    "version": 3
   },
   "file_extension": ".py",
   "mimetype": "text/x-python",
   "name": "python",
   "nbconvert_exporter": "python",
   "pygments_lexer": "ipython3",
   "version": "3.7.3"
  }
 },
 "nbformat": 4,
 "nbformat_minor": 2
}
